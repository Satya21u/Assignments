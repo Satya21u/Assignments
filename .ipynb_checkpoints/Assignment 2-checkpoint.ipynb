{
 "cells": [
  {
   "cell_type": "markdown",
   "metadata": {},
   "source": [
    "<h2> Task 1:"
   ]
  },
  {
   "cell_type": "markdown",
   "metadata": {},
   "source": [
    "<h3> 1.1) Write a Python Program to implement your own myreduce() function which works exactly like Python's built-in function reduce() "
   ]
  },
  {
   "cell_type": "code",
   "execution_count": 1,
   "metadata": {},
   "outputs": [
    {
     "data": {
      "text/plain": [
       "20"
      ]
     },
     "execution_count": 1,
     "metadata": {},
     "output_type": "execute_result"
    }
   ],
   "source": [
    "def myreduce(func, seq):\n",
    "    result = seq[0]\n",
    "    for i in seq[1:]:\n",
    "         result = func(result, i)\n",
    "    return result\n",
    "        \n",
    "lis = [ 1 , 3, 5, 6, 2, 3] \n",
    "\n",
    "myreduce(lambda a,b : a+b,lis)"
   ]
  },
  {
   "cell_type": "markdown",
   "metadata": {},
   "source": [
    "<h3> 1.2) Write a Python program to implement your own myfilter() function which works exactly like Python's built-in function filter() "
   ]
  },
  {
   "cell_type": "code",
   "execution_count": 2,
   "metadata": {},
   "outputs": [
    {
     "data": {
      "text/plain": [
       "[1, 3, 5, 13]"
      ]
     },
     "execution_count": 2,
     "metadata": {},
     "output_type": "execute_result"
    }
   ],
   "source": [
    "def myfilter(func, seq):\n",
    "    result = []\n",
    "    for i in seq:\n",
    "        if func(i):\n",
    "            result.append(i)\n",
    "    return result\n",
    "\n",
    "\n",
    "seq = [0, 1, 2, 3, 5, 8, 13]\n",
    "myfilter(lambda x: x % 2, seq)"
   ]
  },
  {
   "cell_type": "markdown",
   "metadata": {},
   "source": [
    "\n",
    "<h3> 2) Write List comprehensions to produce the following Lists </h3>\n",
    " \n",
    "['A', 'C', 'A', 'D', 'G', 'I', ’L’, ‘ D’] \n",
    " \n",
    "['x', 'xx', 'xxx', 'xxxx', 'y', 'yy', 'yyy', 'yyyy', 'z', 'zz', 'zzz', 'zzzz'] \n",
    " \n",
    "['x', 'y', 'z', 'xx', 'yy', 'zz', 'xx', 'yy', 'zz', 'xxxx', 'yyyy', 'zzzz'] "
   ]
  },
  {
   "cell_type": "code",
   "execution_count": 3,
   "metadata": {},
   "outputs": [
    {
     "name": "stdout",
     "output_type": "stream",
     "text": [
      "ACADGILD => ['A', 'C', 'A', 'D', 'G', 'I', 'L', 'D']\n"
     ]
    }
   ],
   "source": [
    "word = \"ACADGILD\"\n",
    "alphabet_list = [ alphabet for alphabet in word ]\n",
    "print (\"ACADGILD => \" + str(alphabet_list))"
   ]
  },
  {
   "cell_type": "code",
   "execution_count": 4,
   "metadata": {},
   "outputs": [
    {
     "name": "stdout",
     "output_type": "stream",
     "text": [
      " ['x', 'y', 'z'] => ['x', 'xx', 'xxx', 'xxxx', 'y', 'yy', 'yyy', 'yyyy', 'z', 'zz', 'zzz', 'zzzz'] \n"
     ]
    }
   ],
   "source": [
    "input_list = ['x','y','z']\n",
    "result = [ item*num for item in input_list for num in range(1,5)  ]\n",
    "print(\" {} => {} \".format(input_list,result))"
   ]
  },
  {
   "cell_type": "code",
   "execution_count": 5,
   "metadata": {},
   "outputs": [
    {
     "name": "stdout",
     "output_type": "stream",
     "text": [
      "['x','y','z'] => ['x', 'y', 'z', 'xx', 'yy', 'zz', 'xxx', 'yyy', 'zzz', 'xxxx', 'yyyy', 'zzzz']\n"
     ]
    }
   ],
   "source": [
    "input_list = ['x','y','z']\n",
    "result = [ item*num for num in range(1,5) for item in input_list  ]\n",
    "\n",
    "\n",
    "print(\"['x','y','z'] => \" +   str(result))"
   ]
  },
  {
   "cell_type": "code",
   "execution_count": 6,
   "metadata": {},
   "outputs": [
    {
     "name": "stdout",
     "output_type": "stream",
     "text": [
      "[2,3,4] =>[[2], [3], [4], [3], [4], [5], [4], [5], [6]]\n"
     ]
    }
   ],
   "source": [
    "input_list = [2,3,4]\n",
    "result = [ [item+num] for item in input_list for num in range(0,3)]\n",
    "print(\"[2,3,4] =>\" +  str(result))"
   ]
  },
  {
   "cell_type": "code",
   "execution_count": 7,
   "metadata": {},
   "outputs": [
    {
     "name": "stdout",
     "output_type": "stream",
     "text": [
      "[2,3,4,5] =>[[2, 3, 4, 5], [3, 4, 5, 6], [4, 5, 6, 7], [5, 6, 7, 8]]\n"
     ]
    }
   ],
   "source": [
    "input_list = [2,3,4,5]\n",
    "result = [ [item+num for item in input_list] for num in range(0,4)  ]\n",
    "print(\"[2,3,4,5] =>\" +  str(result))"
   ]
  },
  {
   "cell_type": "code",
   "execution_count": 8,
   "metadata": {},
   "outputs": [
    {
     "name": "stdout",
     "output_type": "stream",
     "text": [
      "[1,2,3] =>[(1, 1), (2, 1), (3, 1), (1, 2), (2, 2), (3, 2), (1, 3), (2, 3), (3, 3)]\n"
     ]
    }
   ],
   "source": [
    "input_list=[1,2,3]\n",
    "result = [ (b,a) for a in input_list for b in input_list]\n",
    "print(\"[1,2,3] =>\" +  str(result))"
   ]
  },
  {
   "cell_type": "code",
   "execution_count": null,
   "metadata": {},
   "outputs": [],
   "source": []
  },
  {
   "cell_type": "code",
   "execution_count": 9,
   "metadata": {},
   "outputs": [
    {
     "name": "stdout",
     "output_type": "stream",
     "text": [
      "Longest word is => Learning\n"
     ]
    }
   ],
   "source": [
    "from functools import reduce\n",
    "list_words = [\"This\",\"is\",\"Machine\",\"Learning\",\"tutorial\"]\n",
    "def longestWord(list_words):\n",
    "    return reduce( (lambda x,y:y if len(y) > len(x) else x), list_words )\n",
    "print ('Longest word is => ' + longestWord(list_words) )"
   ]
  },
  {
   "cell_type": "markdown",
   "metadata": {},
   "source": [
    "<h2> Task 2"
   ]
  },
  {
   "cell_type": "markdown",
   "metadata": {},
   "source": [
    "<h3> 1.1) Write a Python Program(with class concepts) to find the area of the triangle using the below formula. \n",
    " \n",
    "area = (s*(s-a)*(s-b)*(s-c)) ** 0.5 \n",
    " \n",
    "Function to take the length of the sides of triangle from user should be defined in the parent class and function to calculate the area should be defined in subclass. "
   ]
  },
  {
   "cell_type": "code",
   "execution_count": 10,
   "metadata": {},
   "outputs": [
    {
     "name": "stdout",
     "output_type": "stream",
     "text": [
      "Area of triangle = 6.0 \n"
     ]
    }
   ],
   "source": [
    "class triangle:\n",
    "    def __init__(self,a,b,c):\n",
    "        self.a=a\n",
    "        self.b=b\n",
    "        self.c=c\n",
    "\n",
    "class areaOfTriangle(triangle):\n",
    "    def __init__(self, *args):\n",
    "        super(areaOfTriangle, self).__init__(*args)\n",
    "        \n",
    "    def area(self):\n",
    "        s= (self.a+self.b+self.c)/2\n",
    "        return (s*(s-self.a)*(s-self.b)*(s-self.c)) ** 0.5\n",
    "    \n",
    "    \n",
    "    \n",
    "    \n",
    "Triangle_Area = areaOfTriangle(3,4,5)\n",
    "\n",
    "print(\"Area of triangle = {} \".format(Triangle_Area.area()))\n",
    "\n"
   ]
  },
  {
   "cell_type": "markdown",
   "metadata": {},
   "source": [
    "<h3> 1.2) Write a function filter_long_words() that takes a list of words and an integer n and returns the list of words that are longer than n. \n",
    " \n",
    " "
   ]
  },
  {
   "cell_type": "code",
   "execution_count": 11,
   "metadata": {},
   "outputs": [
    {
     "name": "stdout",
     "output_type": "stream",
     "text": [
      "how many words you want to enter?5\n",
      "Enter next word wref\n",
      "Enter next word wefrwerf\n",
      "Enter next word werwerf\n",
      "Enter next word fwefwef\n",
      "Enter next word fwefwsefw\n"
     ]
    },
    {
     "data": {
      "text/plain": [
       "['wefrwerf', 'werwerf', 'fwefwef', 'fwefwsefw']"
      ]
     },
     "execution_count": 11,
     "metadata": {},
     "output_type": "execute_result"
    }
   ],
   "source": [
    "\n",
    "a = int(input(\"how many words you want to enter?\"))\n",
    "b = []\n",
    "for i in range(a):\n",
    "    b.append(input(\"Enter next word \"))\n",
    "\n",
    "def long_words(b,max):\n",
    "   # max= input(\"Enter Max no of Chars to filter\")\n",
    "    c = []\n",
    "    for i in b:\n",
    "        if len(i)>max+1:\n",
    "            c.append(i)\n",
    "    return c\n",
    "            \n",
    "            \n",
    "            \n",
    "long_words(b,5)"
   ]
  },
  {
   "cell_type": "markdown",
   "metadata": {},
   "source": [
    "<h3> 2) Write a Python program using function concept that maps  list of words into a list of integers representing the lengths of the corresponding words​. \n",
    " "
   ]
  },
  {
   "cell_type": "code",
   "execution_count": 12,
   "metadata": {},
   "outputs": [
    {
     "data": {
      "text/plain": [
       "[4, 2, 2, 4, 7]"
      ]
     },
     "execution_count": 12,
     "metadata": {},
     "output_type": "execute_result"
    }
   ],
   "source": [
    "def lengths(string):\n",
    "        b = []\n",
    "        for i in string:\n",
    "            b.append(len(i))\n",
    "        return b\n",
    "    \n",
    "\n",
    "string = [\"This\", \"is\" ,\"my\", \"list\" ,\"program\"]\n",
    "\n",
    "lengths(string)"
   ]
  },
  {
   "cell_type": "markdown",
   "metadata": {},
   "source": [
    "<h3> 2.2) Write a Python function which takes a character (i.e. a string of length 1) and returns True if it is a vowel, False otherwise. "
   ]
  },
  {
   "cell_type": "code",
   "execution_count": 13,
   "metadata": {},
   "outputs": [
    {
     "name": "stdout",
     "output_type": "stream",
     "text": [
      "Enter a char e\n",
      "Given char is vowel\n"
     ]
    }
   ],
   "source": [
    "\n",
    "def is_vowel(char):\n",
    "    vowels = ('a', 'e', 'i', 'o', 'u')\n",
    "    if char in vowels:\n",
    "        return (\"Given char is vowel\")\n",
    "    return (\"Given char is not a vowel\")\n",
    "print (is_vowel(input(\"Enter a char \")))"
   ]
  }
 ],
 "metadata": {
  "kernelspec": {
   "display_name": "Python 3",
   "language": "python",
   "name": "python3"
  },
  "language_info": {
   "codemirror_mode": {
    "name": "ipython",
    "version": 3
   },
   "file_extension": ".py",
   "mimetype": "text/x-python",
   "name": "python",
   "nbconvert_exporter": "python",
   "pygments_lexer": "ipython3",
   "version": "3.7.4"
  }
 },
 "nbformat": 4,
 "nbformat_minor": 2
}
