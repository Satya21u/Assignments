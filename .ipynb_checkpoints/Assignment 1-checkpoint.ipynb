{
 "cells": [
  {
   "cell_type": "markdown",
   "metadata": {},
   "source": [
    "<h2> Task 1:"
   ]
  },
  {
   "cell_type": "markdown",
   "metadata": {},
   "source": [
    "<h3> 1) Write a program which will find all such numbers which are divisible by 7 but are not a multiple of 5, between 2000 and 3200 (both included). The numbers obtained should be printed in a comma-separated sequence on a single line."
   ]
  },
  {
   "cell_type": "code",
   "execution_count": 1,
   "metadata": {},
   "outputs": [
    {
     "name": "stdout",
     "output_type": "stream",
     "text": [
      "[2002, 2009, 2016, 2023, 2030, 2037, 2044, 2051, 2058, 2065, 2072, 2079, 2086, 2093, 2100, 2107, 2114, 2121, 2128, 2135, 2142, 2149, 2156, 2163, 2170, 2177, 2184, 2191, 2198, 2205, 2212, 2219, 2226, 2233, 2240, 2247, 2254, 2261, 2268, 2275, 2282, 2289, 2296, 2303, 2310, 2317, 2324, 2331, 2338, 2345, 2352, 2359, 2366, 2373, 2380, 2387, 2394, 2401, 2408, 2415, 2422, 2429, 2436, 2443, 2450, 2457, 2464, 2471, 2478, 2485, 2492, 2499, 2506, 2513, 2520, 2527, 2534, 2541, 2548, 2555, 2562, 2569, 2576, 2583, 2590, 2597, 2604, 2611, 2618, 2625, 2632, 2639, 2646, 2653, 2660, 2667, 2674, 2681, 2688, 2695, 2702, 2709, 2716, 2723, 2730, 2737, 2744, 2751, 2758, 2765, 2772, 2779, 2786, 2793, 2800, 2807, 2814, 2821, 2828, 2835, 2842, 2849, 2856, 2863, 2870, 2877, 2884, 2891, 2898, 2905, 2912, 2919, 2926, 2933, 2940, 2947, 2954, 2961, 2968, 2975, 2982, 2989, 2996, 3003, 3010, 3017, 3024, 3031, 3038, 3045, 3052, 3059, 3066, 3073, 3080, 3087, 3094, 3101, 3108, 3115, 3122, 3129, 3136, 3143, 3150, 3157, 3164, 3171, 3178, 3185, 3192, 3199]\n"
     ]
    }
   ],
   "source": [
    "num = []\n",
    "\n",
    "for i in range(2000, 3201):\n",
    "    if i/5 != 0 and i% 7 == 0:\n",
    "        num.append(i)\n",
    "print(num)"
   ]
  },
  {
   "cell_type": "markdown",
   "metadata": {},
   "source": [
    "<h3> 2) Write a Python program to accept the user's first and last name and then getting them printed in the the reverse order with a space between first name and last name. "
   ]
  },
  {
   "cell_type": "code",
   "execution_count": 2,
   "metadata": {},
   "outputs": [
    {
     "name": "stdout",
     "output_type": "stream",
     "text": [
      "what is your first name? Satyendra\n",
      "what is your last name? Gupta\n",
      "atpuG ardneytaS\n"
     ]
    }
   ],
   "source": [
    "fname = input(\"what is your first name? \")\n",
    "lname = input(\"what is your last name? \")\n",
    "\n",
    "rfname = fname[::-1]\n",
    "rlname = lname[::-1]\n",
    "print(rlname+ \" \"+ rfname)"
   ]
  },
  {
   "cell_type": "markdown",
   "metadata": {},
   "source": [
    "<h3> 3) Write a Python program to find the volume of a sphere with diameter 12 cm.  \n",
    " \n",
    "Formula: V=4/3 * π * r 3 \n",
    " "
   ]
  },
  {
   "cell_type": "code",
   "execution_count": 3,
   "metadata": {},
   "outputs": [
    {
     "name": "stdout",
     "output_type": "stream",
     "text": [
      "Volume of a sphere with diameter 12.0 cm 904.32 cm3 \n"
     ]
    }
   ],
   "source": [
    "D= 12.0\n",
    "r=D/2\n",
    "pi= 3.14\n",
    "\n",
    "volume = 4/3*pi*(r**3)\n",
    "print(\"Volume of a sphere with diameter {} cm {} cm3 \" .format(D, round(volume,2)))"
   ]
  },
  {
   "cell_type": "markdown",
   "metadata": {},
   "source": [
    "<h2> Task 2:"
   ]
  },
  {
   "cell_type": "markdown",
   "metadata": {},
   "source": [
    "<h3> 1) Write a program which accepts a sequence of comma-separated numbers from console and generate a list. "
   ]
  },
  {
   "cell_type": "code",
   "execution_count": 8,
   "metadata": {},
   "outputs": [
    {
     "name": "stdout",
     "output_type": "stream",
     "text": [
      "How many numbers would you input?9\n",
      "Enter your first number 1\n",
      "Enter your next number 2\n",
      "Enter your next number 3\n",
      "Enter your next number 4\n",
      "Enter your next number 6\n",
      "Enter your next number 8\n",
      "Enter your next number 92\n",
      "Enter your next number 24\n",
      "Enter your next number 525\n",
      "['1', '2', '3', '4', '6', '8', '92', '24', '525']\n"
     ]
    }
   ],
   "source": [
    "nos = int(input(\"How many numbers would you input?\"))\n",
    "seq= []\n",
    "\n",
    "for i in range(nos):\n",
    "    if i==0:\n",
    "        seq.append(input(\"Enter your first number \"))\n",
    "    else:\n",
    "        seq.append(input(\"Enter your next number \"))\n",
    "        \n",
    "print(seq)"
   ]
  },
  {
   "cell_type": "markdown",
   "metadata": {},
   "source": [
    "<h3> 2) Create the below pattern using nested for loop in Python. \n",
    " <br>   <br> *  <br>* *<br>  * * *<br>  * * * * <br> * * * * * <br> * * * *  <br>* * * <br> * * <br> * \n",
    " \n",
    " "
   ]
  },
  {
   "cell_type": "code",
   "execution_count": 5,
   "metadata": {},
   "outputs": [
    {
     "name": "stdout",
     "output_type": "stream",
     "text": [
      "Enter max number of Stars (**)15\n",
      "*\n",
      "**\n",
      "***\n",
      "****\n",
      "*****\n",
      "******\n",
      "*******\n",
      "********\n",
      "*********\n",
      "**********\n",
      "***********\n",
      "************\n",
      "*************\n",
      "**************\n",
      "***************\n",
      "**************\n",
      "*************\n",
      "************\n",
      "***********\n",
      "**********\n",
      "*********\n",
      "********\n",
      "*******\n",
      "******\n",
      "*****\n",
      "****\n",
      "***\n",
      "**\n",
      "*\n"
     ]
    }
   ],
   "source": [
    "n=int(input(\"Enter max number of Stars (**)\"))\n",
    "for i in range(1,n,1):\n",
    "    print(\"*\"*i)\n",
    "    i=i+1\n",
    "    if i==n:\n",
    "        for j in range(n,0,-1):\n",
    "            print(\"*\"*j)\n",
    "            j=j-1\n",
    "        \n",
    "            "
   ]
  },
  {
   "cell_type": "markdown",
   "metadata": {},
   "source": [
    "<h3> 3) Write a Python program to reverse a word after accepting the input from the user. "
   ]
  },
  {
   "cell_type": "code",
   "execution_count": 6,
   "metadata": {},
   "outputs": [
    {
     "name": "stdout",
     "output_type": "stream",
     "text": [
      "Enter something Hello World!\n",
      "!dlroW olleH\n"
     ]
    }
   ],
   "source": [
    "str = input(\"Enter something \")\n",
    "            \n",
    "print(str[::-1])"
   ]
  },
  {
   "cell_type": "code",
   "execution_count": 7,
   "metadata": {},
   "outputs": [
    {
     "name": "stdout",
     "output_type": "stream",
     "text": [
      " WE, THE PEOPLE OF INDIA,\n",
      "     having solemnly resolved to constitute India into a SOVEREIGN,!\n",
      "           SOCIALIST, SECULAR, DEMOCRATIC REPUBLIC\n",
      "            and to secure to all its citizens\n"
     ]
    }
   ],
   "source": [
    "str1 =\" WE, THE PEOPLE OF INDIA,\" \n",
    "str2 = \"having solemnly resolved to constitute India into a SOVEREIGN,\"\n",
    "str3 = \"SOCIALIST, SECULAR, DEMOCRATIC REPUBLIC\"\n",
    "str4 = \"and to secure to all its citizens\"\n",
    "\n",
    "print(\"{}\\n     {}!\\n           {}\\n            {}\" .format(str1,str2,str3,str4))"
   ]
  }
 ],
 "metadata": {
  "kernelspec": {
   "display_name": "Python 3",
   "language": "python",
   "name": "python3"
  },
  "language_info": {
   "codemirror_mode": {
    "name": "ipython",
    "version": 3
   },
   "file_extension": ".py",
   "mimetype": "text/x-python",
   "name": "python",
   "nbconvert_exporter": "python",
   "pygments_lexer": "ipython3",
   "version": "3.7.4"
  }
 },
 "nbformat": 4,
 "nbformat_minor": 2
}
