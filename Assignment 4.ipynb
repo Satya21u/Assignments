{
 "cells": [
  {
   "cell_type": "markdown",
   "metadata": {},
   "source": [
    "<h2> Task 1: \n",
    " \n",
    "<h5> 1.  \n",
    "Given a sequence of n values x1, x2, ..., xn and a window size k>0, the k-th moving average of the given sequence is defined as follows: \n",
    " \n",
    "<br> The moving average sequence has n-k+1 elements as shown below. \n",
    " \n",
    "The moving averages with k=4 of a ten-value sequence (n=10) is shown below \n",
    " \n",
    "   i     1   2   3   4   5   6   7   8   9 10 \n",
    "   <br> &emsp;=====  ==  ==  ==  ==  ==  ==  ==  ==  ==  == \n",
    "   \n",
    "   <br> Input  10  20  30  40  50  60  70  80  90 100 \n",
    "   <br> y1 &emsp;   25 = (10+20+30+40)/4 \n",
    "   <br> y2 &emsp;&emsp;&emsp;        35 = (20+30+40+50)/4 \n",
    "   <br> y3 &emsp;&emsp;&emsp; &emsp;            45 = (30+40+50+60)/4 \n",
    "   <br> y4 &emsp; &emsp; &emsp; &emsp; &emsp;                55 = (40+50+60+70)/4 \n",
    "   <br> y5  &emsp; &emsp; &emsp; &emsp; &emsp; &emsp;                    65 = (50+60+70+80)/4 \n",
    "   <br> y6  &emsp; &emsp; &emsp; &emsp; &emsp; &emsp; &emsp;                        75 = (60+70+80+90)/4 \n",
    "   <br> y7  &emsp; &emsp; &emsp; &emsp; &emsp; &emsp; &emsp; &emsp;                            85 = (70+80+90+100)/4 \n",
    " \n",
    "Thus, the moving average sequence has n-k+1=10-4+1=7 values. \n",
    "\n",
    "\n",
    "\n",
    "<h4> Problem Statement: \n",
    "    <br>\n",
    "<br> Write a function to find moving average in an array over a window: \n",
    " \n",
    "<br> Test it over [3, 5, 7, 2, 8, 10, 11, 65, 72, 81, 99, 100, 150] and window of 3. "
   ]
  },
  {
   "cell_type": "code",
   "execution_count": 1,
   "metadata": {},
   "outputs": [
    {
     "name": "stdout",
     "output_type": "stream",
     "text": [
      "Calculating average for windowed array [3 5 7]\n",
      "Calculating average for windowed array [5 7 2]\n",
      "Calculating average for windowed array [7 2 8]\n",
      "Calculating average for windowed array [ 2  8 10]\n",
      "Calculating average for windowed array [ 8 10 11]\n",
      "Calculating average for windowed array [10 11 65]\n",
      "Calculating average for windowed array [11 65 72]\n",
      "Calculating average for windowed array [65 72 81]\n",
      "Calculating average for windowed array [72 81 99]\n",
      "Calculating average for windowed array [ 81  99 100]\n",
      "Calculating average for windowed array [ 99 100 150]\n",
      "Final list of moving avg =>  [5.0, 4.666666666666667, 5.666666666666667, 6.666666666666667, 9.666666666666666, 28.666666666666668, 49.333333333333336, 72.66666666666667, 84.0, 93.33333333333333, 116.33333333333333]\n"
     ]
    }
   ],
   "source": [
    "import numpy as np\n",
    "\n",
    "input_array = [3, 5, 7, 2, 8, 10, 11, 65, 72, 81, 99, 100, 150]\n",
    "window = 3\n",
    "moving_average_list = []\n",
    "\n",
    "for start_index in range(0,len(input_array)):\n",
    "    end_index = start_index + window\n",
    "    if end_index > len(input_array):\n",
    "        break\n",
    "    windowed_array = np.take(input_array, range(start_index, end_index))\n",
    "    \n",
    "    print (\"Calculating average for windowed array \" + str(windowed_array) )\n",
    "    result_avg = np.average(windowed_array)\n",
    "    \n",
    "    moving_average_list.append(result_avg)\n",
    "\n",
    "\n",
    "print (\"Final list of moving avg =>  \" + str(moving_average_list))"
   ]
  },
  {
   "cell_type": "markdown",
   "metadata": {},
   "source": [
    "<h3> Task 2: \n",
    " \n",
    "<h4> 1.  \n",
    "How-to-count-distance-to-the-previous-zero \n",
    "<br> For each value, count the difference back to the previous zero (or the start of the Series, whichever is closer)  \n",
    "create a new column 'Y' \n",
    "Consider a DataFrame df where there is an integer column 'X' \n",
    "\n",
    "\n",
    "import pandas as pd \n",
    "\n",
    "df = pd.DataFrame({'X': [7, 2, 0, 3, 4, 2, 5, 0, 3, 4]}) \n",
    " "
   ]
  },
  {
   "cell_type": "code",
   "execution_count": 2,
   "metadata": {},
   "outputs": [
    {
     "data": {
      "text/html": [
       "<div>\n",
       "<style scoped>\n",
       "    .dataframe tbody tr th:only-of-type {\n",
       "        vertical-align: middle;\n",
       "    }\n",
       "\n",
       "    .dataframe tbody tr th {\n",
       "        vertical-align: top;\n",
       "    }\n",
       "\n",
       "    .dataframe thead th {\n",
       "        text-align: right;\n",
       "    }\n",
       "</style>\n",
       "<table border=\"1\" class=\"dataframe\">\n",
       "  <thead>\n",
       "    <tr style=\"text-align: right;\">\n",
       "      <th></th>\n",
       "      <th>x</th>\n",
       "      <th>y</th>\n",
       "    </tr>\n",
       "  </thead>\n",
       "  <tbody>\n",
       "    <tr>\n",
       "      <td>0</td>\n",
       "      <td>7</td>\n",
       "      <td>1</td>\n",
       "    </tr>\n",
       "    <tr>\n",
       "      <td>1</td>\n",
       "      <td>2</td>\n",
       "      <td>2</td>\n",
       "    </tr>\n",
       "    <tr>\n",
       "      <td>2</td>\n",
       "      <td>0</td>\n",
       "      <td>0</td>\n",
       "    </tr>\n",
       "    <tr>\n",
       "      <td>3</td>\n",
       "      <td>3</td>\n",
       "      <td>1</td>\n",
       "    </tr>\n",
       "    <tr>\n",
       "      <td>4</td>\n",
       "      <td>4</td>\n",
       "      <td>2</td>\n",
       "    </tr>\n",
       "    <tr>\n",
       "      <td>5</td>\n",
       "      <td>2</td>\n",
       "      <td>3</td>\n",
       "    </tr>\n",
       "    <tr>\n",
       "      <td>6</td>\n",
       "      <td>5</td>\n",
       "      <td>4</td>\n",
       "    </tr>\n",
       "    <tr>\n",
       "      <td>7</td>\n",
       "      <td>0</td>\n",
       "      <td>0</td>\n",
       "    </tr>\n",
       "    <tr>\n",
       "      <td>8</td>\n",
       "      <td>3</td>\n",
       "      <td>1</td>\n",
       "    </tr>\n",
       "    <tr>\n",
       "      <td>9</td>\n",
       "      <td>4</td>\n",
       "      <td>2</td>\n",
       "    </tr>\n",
       "  </tbody>\n",
       "</table>\n",
       "</div>"
      ],
      "text/plain": [
       "   x  y\n",
       "0  7  1\n",
       "1  2  2\n",
       "2  0  0\n",
       "3  3  1\n",
       "4  4  2\n",
       "5  2  3\n",
       "6  5  4\n",
       "7  0  0\n",
       "8  3  1\n",
       "9  4  2"
      ]
     },
     "execution_count": 2,
     "metadata": {},
     "output_type": "execute_result"
    }
   ],
   "source": [
    "import pandas as pd\n",
    "\n",
    "df = pd.DataFrame({'x': [7, 2, 0, 3, 4, 2, 5, 0, 3, 4]})\n",
    "dist=[]\n",
    "arr = df['x'].to_list()\n",
    "a=0\n",
    "for i in arr:\n",
    "    if i !=0:\n",
    "        a=a+1\n",
    "    else:\n",
    "        a=0\n",
    "    dist.append(a)\n",
    "    \n",
    "df['y'] =pd.Series(dist)\n",
    "df"
   ]
  },
  {
   "cell_type": "markdown",
   "metadata": {},
   "source": [
    "<h4> 2. \n",
    "Create a DatetimeIndex that contains each business day of 2015 and use it to index a Series of                  random numbers. "
   ]
  },
  {
   "cell_type": "code",
   "execution_count": 3,
   "metadata": {},
   "outputs": [],
   "source": [
    "dates = pd.date_range(start='2015-01-01', end='2015-12-31', freq='B') \n",
    "df = pd.Series(np.random.randint(len(dates)), index=dates)"
   ]
  },
  {
   "cell_type": "code",
   "execution_count": 4,
   "metadata": {},
   "outputs": [
    {
     "data": {
      "text/plain": [
       "2015-01-01    90\n",
       "2015-01-02    90\n",
       "2015-01-05    90\n",
       "2015-01-06    90\n",
       "2015-01-07    90\n",
       "2015-01-08    90\n",
       "2015-01-09    90\n",
       "2015-01-12    90\n",
       "2015-01-13    90\n",
       "2015-01-14    90\n",
       "2015-01-15    90\n",
       "2015-01-16    90\n",
       "2015-01-19    90\n",
       "2015-01-20    90\n",
       "2015-01-21    90\n",
       "Freq: B, dtype: int64"
      ]
     },
     "execution_count": 4,
     "metadata": {},
     "output_type": "execute_result"
    }
   ],
   "source": [
    "df.head(15)"
   ]
  },
  {
   "cell_type": "markdown",
   "metadata": {},
   "source": [
    "<h4> 3. Find the sum of the values in s for every Wednesday "
   ]
  },
  {
   "cell_type": "code",
   "execution_count": 5,
   "metadata": {},
   "outputs": [
    {
     "data": {
      "text/plain": [
       "4680"
      ]
     },
     "execution_count": 5,
     "metadata": {},
     "output_type": "execute_result"
    }
   ],
   "source": [
    "df[dates.weekday ==2].sum()"
   ]
  },
  {
   "cell_type": "markdown",
   "metadata": {},
   "source": [
    "<h4> 4.  Average For each calendar month "
   ]
  },
  {
   "cell_type": "code",
   "execution_count": 6,
   "metadata": {},
   "outputs": [
    {
     "data": {
      "text/plain": [
       "2015-01-31    90\n",
       "2015-02-28    90\n",
       "2015-03-31    90\n",
       "2015-04-30    90\n",
       "2015-05-31    90\n",
       "2015-06-30    90\n",
       "2015-07-31    90\n",
       "2015-08-31    90\n",
       "2015-09-30    90\n",
       "2015-10-31    90\n",
       "2015-11-30    90\n",
       "2015-12-31    90\n",
       "Freq: M, dtype: int64"
      ]
     },
     "execution_count": 6,
     "metadata": {},
     "output_type": "execute_result"
    }
   ],
   "source": [
    "df.resample('M').mean()"
   ]
  },
  {
   "cell_type": "markdown",
   "metadata": {},
   "source": [
    "<h4> 5.  \n",
    "For each group of four consecutive calendar months in s, find the date on which the highest                 value occurred. "
   ]
  },
  {
   "cell_type": "code",
   "execution_count": 7,
   "metadata": {},
   "outputs": [
    {
     "data": {
      "text/plain": [
       "2015-01-31   2015-01-01\n",
       "2015-05-31   2015-02-02\n",
       "2015-09-30   2015-06-01\n",
       "2016-01-31   2015-10-01\n",
       "Freq: 4M, dtype: datetime64[ns]"
      ]
     },
     "execution_count": 7,
     "metadata": {},
     "output_type": "execute_result"
    }
   ],
   "source": [
    "df.groupby(pd.Grouper(freq='4M')).idxmax()[0:4]"
   ]
  },
  {
   "cell_type": "code",
   "execution_count": null,
   "metadata": {},
   "outputs": [],
   "source": []
  }
 ],
 "metadata": {
  "kernelspec": {
   "display_name": "Python 3",
   "language": "python",
   "name": "python3"
  },
  "language_info": {
   "codemirror_mode": {
    "name": "ipython",
    "version": 3
   },
   "file_extension": ".py",
   "mimetype": "text/x-python",
   "name": "python",
   "nbconvert_exporter": "python",
   "pygments_lexer": "ipython3",
   "version": "3.7.4"
  },
  "varInspector": {
   "cols": {
    "lenName": 16,
    "lenType": 16,
    "lenVar": 40
   },
   "kernels_config": {
    "python": {
     "delete_cmd_postfix": "",
     "delete_cmd_prefix": "del ",
     "library": "var_list.py",
     "varRefreshCmd": "print(var_dic_list())"
    },
    "r": {
     "delete_cmd_postfix": ") ",
     "delete_cmd_prefix": "rm(",
     "library": "var_list.r",
     "varRefreshCmd": "cat(var_dic_list()) "
    }
   },
   "types_to_exclude": [
    "module",
    "function",
    "builtin_function_or_method",
    "instance",
    "_Feature"
   ],
   "window_display": false
  }
 },
 "nbformat": 4,
 "nbformat_minor": 2
}
